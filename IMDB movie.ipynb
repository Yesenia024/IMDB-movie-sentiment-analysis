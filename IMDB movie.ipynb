{
 "cells": [
  {
   "cell_type": "markdown",
   "metadata": {},
   "source": [
    "# Course project - IMDB movie rating\n",
    "### Name: ZHANG Yaxin, No.:20661795\n",
    "The code has been uploaded to: https://github.com/Yesenia024/IMDB-movie-sentiment-analysis\n",
    "\n",
    "## Table of Contents\n",
    "* 1. Introduction\n",
    "* 2. Data processing\n",
    "* 3. Model building and results\n",
    "* 4. Evaluation and summary\n",
    "* 5. Acknowledge and reference"
   ]
  },
  {
   "cell_type": "markdown",
   "metadata": {},
   "source": [
    "## 1. Introduction"
   ]
  },
  {
   "cell_type": "markdown",
   "metadata": {},
   "source": [
    "This notebook studies the binary classification problem. The data is an IMDB dataset of 50,000 movie reviews, which includes 25,000 training data and 25,000 test data. This article uses classification algorithms including logistic regression to get different models and compare the results of each model."
   ]
  },
  {
   "cell_type": "markdown",
   "metadata": {},
   "source": [
    "## 2. Data processing"
   ]
  },
  {
   "cell_type": "markdown",
   "metadata": {},
   "source": [
    "At the beginning, we first load some basic libraries we use."
   ]
  },
  {
   "cell_type": "code",
   "execution_count": 1,
   "metadata": {},
   "outputs": [],
   "source": [
    "import numpy as np\n",
    "import pandas as pd\n",
    "import os\n",
    "import matplotlib.pyplot as plt\n",
    "# To deal with non-standard words\n",
    "import re \n",
    "from bs4 import BeautifulSoup"
   ]
  },
  {
   "cell_type": "markdown",
   "metadata": {},
   "source": [
    "We load data from the following link: http://ai.stanford.edu/~amaas/data/sentiment/\n",
    "The data includes two folders, train and test, and each folder contains two folders, neg and pos. The comments are stored as separate files in txt format.\n",
    "Therefore, we must first import the data from these texts and define the following functions:"
   ]
  },
  {
   "cell_type": "code",
   "execution_count": 2,
   "metadata": {},
   "outputs": [],
   "source": [
    "# Load data from these folders\n",
    "# define a function for gathering reviews from single file one by one, and append them together as a Dataframe.\n",
    "# label: 'pos' or 'neg' \n",
    "def folders_download(data, label):\n",
    "    sentence = []\n",
    "    for filepath in os.listdir('aclImdb/' + data + '/' + label):\n",
    "        with open(('aclImdb/' + data + '/' + label + '/' + filepath), 'r', encoding='UTF-8') as file:\n",
    "            review = file.read()\n",
    "            sentence.append(review)\n",
    "    if label == 'pos':\n",
    "        sentiment = 1  \n",
    "    else:\n",
    "        sentiment = 0\n",
    "    reviews = pd.Series(sentence)\n",
    "    reviews = pd.DataFrame({'review': reviews})\n",
    "    reviews['sentiment'] = pd.Series(np.array([sentiment] * len(reviews)), index=reviews.index)\n",
    "    return reviews\n",
    "# define a function for appending 'pos' and 'neg' reviews \n",
    "# data: string\n",
    "def append_together(data):\n",
    "    pos = folders_download(data, 'pos')\n",
    "    neg = folders_download(data, 'neg')\n",
    "    data = pd.DataFrame(pos)\n",
    "    data = data.append(neg, ignore_index=True)\n",
    "    print(\"Import data is completed.\")\n",
    "    return data"
   ]
  },
  {
   "cell_type": "markdown",
   "metadata": {},
   "source": [
    "Now, let's import the training set and test set respectively, named train and test. And simply look at what the train looks like."
   ]
  },
  {
   "cell_type": "code",
   "execution_count": 3,
   "metadata": {},
   "outputs": [
    {
     "name": "stdout",
     "output_type": "stream",
     "text": [
      "Import data is completed.\n",
      "Import data is completed.\n"
     ]
    },
    {
     "data": {
      "text/html": [
       "<div>\n",
       "<style scoped>\n",
       "    .dataframe tbody tr th:only-of-type {\n",
       "        vertical-align: middle;\n",
       "    }\n",
       "\n",
       "    .dataframe tbody tr th {\n",
       "        vertical-align: top;\n",
       "    }\n",
       "\n",
       "    .dataframe thead th {\n",
       "        text-align: right;\n",
       "    }\n",
       "</style>\n",
       "<table border=\"1\" class=\"dataframe\">\n",
       "  <thead>\n",
       "    <tr style=\"text-align: right;\">\n",
       "      <th></th>\n",
       "      <th>review</th>\n",
       "      <th>sentiment</th>\n",
       "    </tr>\n",
       "  </thead>\n",
       "  <tbody>\n",
       "    <tr>\n",
       "      <th>0</th>\n",
       "      <td>Bromwell High is a cartoon comedy. It ran at t...</td>\n",
       "      <td>1</td>\n",
       "    </tr>\n",
       "    <tr>\n",
       "      <th>1</th>\n",
       "      <td>Homelessness (or Houselessness as George Carli...</td>\n",
       "      <td>1</td>\n",
       "    </tr>\n",
       "    <tr>\n",
       "      <th>2</th>\n",
       "      <td>Brilliant over-acting by Lesley Ann Warren. Be...</td>\n",
       "      <td>1</td>\n",
       "    </tr>\n",
       "    <tr>\n",
       "      <th>3</th>\n",
       "      <td>This is easily the most underrated film inn th...</td>\n",
       "      <td>1</td>\n",
       "    </tr>\n",
       "    <tr>\n",
       "      <th>4</th>\n",
       "      <td>This is not the typical Mel Brooks film. It wa...</td>\n",
       "      <td>1</td>\n",
       "    </tr>\n",
       "    <tr>\n",
       "      <th>...</th>\n",
       "      <td>...</td>\n",
       "      <td>...</td>\n",
       "    </tr>\n",
       "    <tr>\n",
       "      <th>24995</th>\n",
       "      <td>Towards the end of the movie, I felt it was to...</td>\n",
       "      <td>0</td>\n",
       "    </tr>\n",
       "    <tr>\n",
       "      <th>24996</th>\n",
       "      <td>This is the kind of movie that my enemies cont...</td>\n",
       "      <td>0</td>\n",
       "    </tr>\n",
       "    <tr>\n",
       "      <th>24997</th>\n",
       "      <td>I saw 'Descent' last night at the Stockholm Fi...</td>\n",
       "      <td>0</td>\n",
       "    </tr>\n",
       "    <tr>\n",
       "      <th>24998</th>\n",
       "      <td>Some films that you pick up for a pound turn o...</td>\n",
       "      <td>0</td>\n",
       "    </tr>\n",
       "    <tr>\n",
       "      <th>24999</th>\n",
       "      <td>This is one of the dumbest films, I've ever se...</td>\n",
       "      <td>0</td>\n",
       "    </tr>\n",
       "  </tbody>\n",
       "</table>\n",
       "<p>25000 rows × 2 columns</p>\n",
       "</div>"
      ],
      "text/plain": [
       "                                                  review  sentiment\n",
       "0      Bromwell High is a cartoon comedy. It ran at t...          1\n",
       "1      Homelessness (or Houselessness as George Carli...          1\n",
       "2      Brilliant over-acting by Lesley Ann Warren. Be...          1\n",
       "3      This is easily the most underrated film inn th...          1\n",
       "4      This is not the typical Mel Brooks film. It wa...          1\n",
       "...                                                  ...        ...\n",
       "24995  Towards the end of the movie, I felt it was to...          0\n",
       "24996  This is the kind of movie that my enemies cont...          0\n",
       "24997  I saw 'Descent' last night at the Stockholm Fi...          0\n",
       "24998  Some films that you pick up for a pound turn o...          0\n",
       "24999  This is one of the dumbest films, I've ever se...          0\n",
       "\n",
       "[25000 rows x 2 columns]"
      ]
     },
     "execution_count": 3,
     "metadata": {},
     "output_type": "execute_result"
    }
   ],
   "source": [
    "train = append_together('train')\n",
    "test = append_together('test')\n",
    "train"
   ]
  },
  {
   "cell_type": "markdown",
   "metadata": {},
   "source": [
    "As you can see, train is a 25000-line dataframe. Before we clean the text, let's take a look at the degree of cleaning in these reviews. Take the second line of text as an example:"
   ]
  },
  {
   "cell_type": "code",
   "execution_count": 4,
   "metadata": {},
   "outputs": [
    {
     "data": {
      "text/plain": [
       "'Homelessness (or Houselessness as George Carlin stated) has been an issue for years but never a plan to help those on the street that were once considered human who did everything from going to school, work, or vote for the matter. Most people think of the homeless as just a lost cause while worrying about things such as racism, the war on Iraq, pressuring kids to succeed, technology, the elections, inflation, or worrying if they\\'ll be next to end up on the streets.<br /><br />But what if you were given a bet to live on the streets for a month without the luxuries you once had from a home, the entertainment sets, a bathroom, pictures on the wall, a computer, and everything you once treasure to see what it\\'s like to be homeless? That is Goddard Bolt\\'s lesson.<br /><br />Mel Brooks (who directs) who stars as Bolt plays a rich man who has everything in the world until deciding to make a bet with a sissy rival (Jeffery Tambor) to see if he can live in the streets for thirty days without the luxuries; if Bolt succeeds, he can do what he wants with a future project of making more buildings. The bet\\'s on where Bolt is thrown on the street with a bracelet on his leg to monitor his every move where he can\\'t step off the sidewalk. He\\'s given the nickname Pepto by a vagrant after it\\'s written on his forehead where Bolt meets other characters including a woman by the name of Molly (Lesley Ann Warren) an ex-dancer who got divorce before losing her home, and her pals Sailor (Howard Morris) and Fumes (Teddy Wilson) who are already used to the streets. They\\'re survivors. Bolt isn\\'t. He\\'s not used to reaching mutual agreements like he once did when being rich where it\\'s fight or flight, kill or be killed.<br /><br />While the love connection between Molly and Bolt wasn\\'t necessary to plot, I found \"Life Stinks\" to be one of Mel Brooks\\' observant films where prior to being a comedy, it shows a tender side compared to his slapstick work such as Blazing Saddles, Young Frankenstein, or Spaceballs for the matter, to show what it\\'s like having something valuable before losing it the next day or on the other hand making a stupid bet like all rich people do when they don\\'t know what to do with their money. Maybe they should give it to the homeless instead of using it like Monopoly money.<br /><br />Or maybe this film will inspire you to help others.'"
      ]
     },
     "execution_count": 4,
     "metadata": {},
     "output_type": "execute_result"
    }
   ],
   "source": [
    "train.review[1]"
   ]
  },
  {
   "cell_type": "markdown",
   "metadata": {},
   "source": [
    "It can be seen that these reviews are the raw data obtained after crawling the data, we need to remove HTML tags (<br/), handle non-standard words and change uppercase to lowercase. Define the following function to perform these operations."
   ]
  },
  {
   "cell_type": "code",
   "execution_count": 5,
   "metadata": {},
   "outputs": [],
   "source": [
    "def data_processing(review):\n",
    "    review = BeautifulSoup(review, \"html.parser\").get_text()\n",
    "    review = re.sub(\"[^a-zA-Z]\",\" \", review)\n",
    "    review = review.lower().split()\n",
    "    return review"
   ]
  },
  {
   "cell_type": "markdown",
   "metadata": {},
   "source": [
    "Separate the dependent and independent variables of the data, and do data cleaning on the independent variables. The processing results are shown below."
   ]
  },
  {
   "cell_type": "code",
   "execution_count": 6,
   "metadata": {},
   "outputs": [
    {
     "name": "stdout",
     "output_type": "stream",
     "text": [
      "Text data is processed.\n"
     ]
    },
    {
     "data": {
      "text/plain": [
       "'homelessness or houselessness as george carlin stated has been an issue for years but never a plan to help those on the street that were once considered human who did everything from going to school work or vote for the matter most people think of the homeless as just a lost cause while worrying about things such as racism the war on iraq pressuring kids to succeed technology the elections inflation or worrying if they ll be next to end up on the streets but what if you were given a bet to live on the streets for a month without the luxuries you once had from a home the entertainment sets a bathroom pictures on the wall a computer and everything you once treasure to see what it s like to be homeless that is goddard bolt s lesson mel brooks who directs who stars as bolt plays a rich man who has everything in the world until deciding to make a bet with a sissy rival jeffery tambor to see if he can live in the streets for thirty days without the luxuries if bolt succeeds he can do what he wants with a future project of making more buildings the bet s on where bolt is thrown on the street with a bracelet on his leg to monitor his every move where he can t step off the sidewalk he s given the nickname pepto by a vagrant after it s written on his forehead where bolt meets other characters including a woman by the name of molly lesley ann warren an ex dancer who got divorce before losing her home and her pals sailor howard morris and fumes teddy wilson who are already used to the streets they re survivors bolt isn t he s not used to reaching mutual agreements like he once did when being rich where it s fight or flight kill or be killed while the love connection between molly and bolt wasn t necessary to plot i found life stinks to be one of mel brooks observant films where prior to being a comedy it shows a tender side compared to his slapstick work such as blazing saddles young frankenstein or spaceballs for the matter to show what it s like having something valuable before losing it the next day or on the other hand making a stupid bet like all rich people do when they don t know what to do with their money maybe they should give it to the homeless instead of using it like monopoly money or maybe this film will inspire you to help others'"
      ]
     },
     "execution_count": 6,
     "metadata": {},
     "output_type": "execute_result"
    }
   ],
   "source": [
    "y_train = train['sentiment']\n",
    "y_test = test['sentiment']\n",
    "X_train = []\n",
    "for i in range(len(train['review'])):\n",
    "    X_train.append(' '.join(data_processing(train['review'][i])))\n",
    "X_test = []\n",
    "for i in range(len(test['review'])):\n",
    "    X_test.append(' '.join(data_processing(test['review'][i])))\n",
    "print(\"Text data is processed.\")\n",
    "X_train[1]"
   ]
  },
  {
   "cell_type": "markdown",
   "metadata": {},
   "source": [
    "To delete certain stop words and convert text data into numeric values, use TFIDF to do that.\n",
    "Because the processing results of different data will be different, we need to process the training set and test set together to ensure the consistency of the processing results."
   ]
  },
  {
   "cell_type": "code",
   "execution_count": 7,
   "metadata": {},
   "outputs": [
    {
     "name": "stdout",
     "output_type": "stream",
     "text": [
      "TF-IDF is completed.\n"
     ]
    }
   ],
   "source": [
    "from sklearn.feature_extraction.text import TfidfVectorizer as TFIDF\n",
    "tfidf = TFIDF(min_df=2, \n",
    "           max_features=None,\n",
    "           strip_accents='unicode',\n",
    "           analyzer='word',\n",
    "           token_pattern=r'\\w{1,}',\n",
    "           ngram_range=(1, 3),  \n",
    "           use_idf=1,\n",
    "           smooth_idf=1,\n",
    "           sublinear_tf=1,\n",
    "           stop_words = 'english') \n",
    "data_all = X_train + X_test\n",
    "len_train = len(X_train)\n",
    "tfidf.fit(data_all)\n",
    "data_all = tfidf.transform(data_all)\n",
    "X_train = data_all[:len_train]\n",
    "X_test = data_all[len_train:]\n",
    "print (\"TF-IDF is completed.\")"
   ]
  },
  {
   "cell_type": "code",
   "execution_count": 8,
   "metadata": {},
   "outputs": [
    {
     "data": {
      "text/plain": [
       "<25000x810864 sparse matrix of type '<class 'numpy.float64'>'\n",
       "\twith 4044672 stored elements in Compressed Sparse Row format>"
      ]
     },
     "execution_count": 8,
     "metadata": {},
     "output_type": "execute_result"
    }
   ],
   "source": [
    "X_train"
   ]
  },
  {
   "cell_type": "markdown",
   "metadata": {},
   "source": [
    "So far, we have processed the data. The independent variable is a large sparse matrix, and the dependent variable is a binary variable of 0 or 1. Below, different models are built for this classification problem:\n",
    "## 3. Model building and results\n",
    "I use the cross-validation method by choosing k=10 and import some libraries."
   ]
  },
  {
   "cell_type": "code",
   "execution_count": 16,
   "metadata": {},
   "outputs": [],
   "source": [
    "from sklearn.metrics import confusion_matrix, accuracy_score\n",
    "from sklearn.model_selection import cross_val_score\n",
    "from sklearn.model_selection import KFold\n",
    "k_fold = KFold(n_splits=10, shuffle=True, random_state=0)\n",
    "from sklearn.linear_model import LogisticRegression\n",
    "from sklearn import metrics\n",
    "from sklearn.tree import DecisionTreeClassifier\n",
    "from sklearn.metrics import recall_score\n",
    "from xgboost import XGBClassifier\n",
    "from sklearn.neighbors import KNeighborsClassifier\n",
    "from sklearn.metrics import roc_curve, auc  "
   ]
  },
  {
   "cell_type": "markdown",
   "metadata": {},
   "source": [
    "### Logistic Regression"
   ]
  },
  {
   "cell_type": "code",
   "execution_count": 10,
   "metadata": {},
   "outputs": [
    {
     "name": "stdout",
     "output_type": "stream",
     "text": [
      "[[10938  1562]\n",
      " [ 1413 11087]]\n",
      "88.0\n"
     ]
    }
   ],
   "source": [
    "logmodel = LogisticRegression() \n",
    "logmodel.fit(X_train,y_train)\n",
    "logpred = logmodel.predict(X_test)\n",
    "print(confusion_matrix(y_test, logpred))\n",
    "print(round(accuracy_score(y_test, logpred),2)*100)\n",
    "LR_CV = (cross_val_score(logmodel, X_train, y_train, cv=k_fold, n_jobs=1, scoring = 'accuracy').mean())"
   ]
  },
  {
   "cell_type": "markdown",
   "metadata": {},
   "source": [
    "### Decision Tree Classifier"
   ]
  },
  {
   "cell_type": "code",
   "execution_count": 11,
   "metadata": {},
   "outputs": [
    {
     "name": "stdout",
     "output_type": "stream",
     "text": [
      "[[8884 3616]\n",
      " [3691 8809]]\n",
      "71.0\n"
     ]
    }
   ],
   "source": [
    "dtree = DecisionTreeClassifier(criterion='gini') # criterion = entopy, gini\n",
    "dtree.fit(X_train, y_train)\n",
    "dtreepred = dtree.predict(X_test)\n",
    "print(confusion_matrix(y_test, dtreepred))\n",
    "print(round(accuracy_score(y_test, dtreepred),2)*100)\n",
    "DT_CV = recall_score(y_test, dtreepred)"
   ]
  },
  {
   "cell_type": "markdown",
   "metadata": {},
   "source": [
    "### XGB Classifier"
   ]
  },
  {
   "cell_type": "code",
   "execution_count": 12,
   "metadata": {},
   "outputs": [
    {
     "name": "stdout",
     "output_type": "stream",
     "text": [
      "[[10386  2114]\n",
      " [ 1729 10771]]\n",
      "85.0\n"
     ]
    }
   ],
   "source": [
    "xgb = XGBClassifier()\n",
    "xgb.fit(X_train, y_train)\n",
    "xgbprd = xgb.predict(X_test)\n",
    "print(confusion_matrix(y_test, xgbprd ))\n",
    "print(round(accuracy_score(y_test, xgbprd),2)*100)\n",
    "XGB_CV = recall_score(y_test, xgbprd)"
   ]
  },
  {
   "cell_type": "markdown",
   "metadata": {},
   "source": [
    "### K-Neighbors Classifier"
   ]
  },
  {
   "cell_type": "code",
   "execution_count": 17,
   "metadata": {},
   "outputs": [
    {
     "name": "stdout",
     "output_type": "stream",
     "text": [
      "[[10097  2403]\n",
      " [ 2801  9699]]\n",
      "79.0\n"
     ]
    }
   ],
   "source": [
    "'''\n",
    "By observing K from 1 to 90, the result of cross-validation increased from more than 40 to 65,\n",
    "and it grew steadily, without obvious peaks. Because the K value is too large, it is not good, so choose K=45.\n",
    "'''\n",
    "knn = KNeighborsClassifier(n_neighbors=45)\n",
    "knn.fit(X_train, y_train)\n",
    "knnpred = knn.predict(X_test)\n",
    "print(confusion_matrix(y_test, knnpred))\n",
    "print(round(accuracy_score(y_test, knnpred),2)*100)\n",
    "KNN_CV = recall_score(y_test, knnpred)"
   ]
  },
  {
   "cell_type": "markdown",
   "metadata": {},
   "source": [
    "## 4. Evaluation and summary"
   ]
  },
  {
   "cell_type": "code",
   "execution_count": 21,
   "metadata": {},
   "outputs": [
    {
     "data": {
      "text/html": [
       "<div>\n",
       "<style scoped>\n",
       "    .dataframe tbody tr th:only-of-type {\n",
       "        vertical-align: middle;\n",
       "    }\n",
       "\n",
       "    .dataframe tbody tr th {\n",
       "        vertical-align: top;\n",
       "    }\n",
       "\n",
       "    .dataframe thead th {\n",
       "        text-align: right;\n",
       "    }\n",
       "</style>\n",
       "<table border=\"1\" class=\"dataframe\">\n",
       "  <thead>\n",
       "    <tr style=\"text-align: right;\">\n",
       "      <th></th>\n",
       "      <th>Models</th>\n",
       "      <th>Recall Score</th>\n",
       "    </tr>\n",
       "  </thead>\n",
       "  <tbody>\n",
       "    <tr>\n",
       "      <th>1</th>\n",
       "      <td>Logistic Model</td>\n",
       "      <td>0.88768</td>\n",
       "    </tr>\n",
       "    <tr>\n",
       "      <th>2</th>\n",
       "      <td>XGBoost</td>\n",
       "      <td>0.86168</td>\n",
       "    </tr>\n",
       "    <tr>\n",
       "      <th>3</th>\n",
       "      <td>KNN</td>\n",
       "      <td>0.77592</td>\n",
       "    </tr>\n",
       "    <tr>\n",
       "      <th>0</th>\n",
       "      <td>Decision Tree Classifier</td>\n",
       "      <td>0.70472</td>\n",
       "    </tr>\n",
       "  </tbody>\n",
       "</table>\n",
       "</div>"
      ],
      "text/plain": [
       "                     Models  Recall Score\n",
       "1            Logistic Model       0.88768\n",
       "2                   XGBoost       0.86168\n",
       "3                       KNN       0.77592\n",
       "0  Decision Tree Classifier       0.70472"
      ]
     },
     "execution_count": 21,
     "metadata": {},
     "output_type": "execute_result"
    }
   ],
   "source": [
    "models = pd.DataFrame({\n",
    "                'Models': ['Decision Tree Classifier', 'Logistic Model',  'XGBoost','KNN'],\n",
    "                'Recall Score':  [DT_CV,  LR_CV, XGB_CV, KNN_CV ]})\n",
    "models.sort_values(by='Recall Score', ascending=False)"
   ]
  },
  {
   "cell_type": "markdown",
   "metadata": {},
   "source": [
    "This semester, my professor talked about many models. I only selected 4 representative and more suitable ones. I did not choose a model like Naive Bayes because the variables are sparse matrices.\n",
    "\n",
    "It can be seen that the result of 'Logistic Model' is the best, which shows that it performs well when dealing with large and sparse independent variables. In addition, its best performance also illustrates a point: sometimes complex models do not mean performance Improvement.\n",
    "\n",
    "The'XGBoost' ranks second because it is an optimization of the gradient boost model and has good performance, followed by'KNN', because the word matrix is huge, it may affect the performance of KNN, and the last one is the basic'Decision Tree Classifier ', which is expected.\n",
    "\n",
    "Next, let's take a look at the ROC curve and AUC value of the model. Taking only the best model'Logistic Model' as an example, the rest can be obtained by uncommenting, and the following functions are defined:"
   ]
  },
  {
   "cell_type": "code",
   "execution_count": 42,
   "metadata": {},
   "outputs": [],
   "source": [
    "def plot_ROC(y_test, y_pred):\n",
    "    false_positive_rate, true_positive_rate, thresholds = roc_curve(y_test, y_pred)\n",
    "    roc_auc = auc(false_positive_rate, true_positive_rate)\n",
    "    fig = plt.gcf()\n",
    "    plt.title('Receiver Operating Characteristic Curve', fontsize=15)\n",
    "    plt.plot(false_positive_rate,true_positive_rate, 'b', label='AUC = %0.2f' % roc_auc) #AUC\n",
    "    plt.legend(loc='lower right')\n",
    "    plt.plot([0, 1], [0, 1], 'r--')\n",
    "    plt.xlim([0.0, 1.0])\n",
    "    plt.ylim([0.0, 1.0])\n",
    "    plt.ylabel('True Positive Rate', fontsize=15)\n",
    "    plt.xlabel('False Positive Rate', fontsize=15)\n",
    "    fig.set_size_inches(8, 6)\n",
    "    plt.show()"
   ]
  },
  {
   "cell_type": "code",
   "execution_count": 43,
   "metadata": {
    "scrolled": false
   },
   "outputs": [
    {
     "data": {
      "image/png": "[encoded data removed]",
      "text/plain": [
       "<Figure size 576x432 with 1 Axes>"
      ]
     },
     "metadata": {
      "needs_background": "light"
     },
     "output_type": "display_data"
    }
   ],
   "source": [
    "plot_ROC(y_test, logpred)\n",
    "#plot_ROC(y_test, dtreepred)\n",
    "#plot_ROC(y_test, xgbprd)\n",
    "#plot_ROC(y_test, knnpred)"
   ]
  },
  {
   "cell_type": "markdown",
   "metadata": {},
   "source": [
    "We can see that although the ROC curve is not smooth, when the false positive rate is around 0.1, the true positive rate has reached 0.9. Moreover, generally we don’t like the fact that it is false, but the prediction is true. And this curve is on the left, which means that when the false positive rate is low, the true positive rate is relatively high, which is what we welcome.\n",
    "where,\n",
    "$$ false\\ positive\\ rate = \\cfrac{false\\ positive}{(false\\ positive + true\\ negative}),$$\n",
    "$$ true\\ positive\\ rate = \\cfrac{true\\ positive}{(true\\ positive + false\\ negative}).$$"
   ]
  },
  {
   "cell_type": "markdown",
   "metadata": {},
   "source": [
    "Overall, my conclusion is that in this problem of sentiment classification, logistic regression performs best. \n",
    "\n",
    "The biggest difficulty of this article is the natural language processing part: reading text, cleaning text, and converting words to numeric values. They are all great tests for me. But thanks to the data has been very friendly divided into positive and negative emotions, which makes the whole job a lot easier, and does not need to resample.\n",
    "\n",
    "Advantages of the article:\n",
    "* Many functions are defined, with certain adaptability and encapsulation.\n",
    "* Using cross-validation, established 4 machine learning models and compared their results.\n",
    "\n",
    "Future outlook:\n",
    "* Can be optimized in the data processing part.\n",
    "* Use deep-learning."
   ]
  },
  {
   "cell_type": "markdown",
   "metadata": {},
   "source": [
    "## 5. Acknowledge and reference\n",
    "Thanks for reading and thank you very much Professor Can Yang! This semester of teaching was very meticulous and earnest! We are very grateful!\n",
    "\n",
    "References are as follows:\n",
    "\n",
    "[1] Andrew L. Maas, Raymond E. Daly, Peter T. Pham, Dan Huang, Andrew Y. Ng, and Christopher Potts. (2011). Learning Word Vectors for Sentiment Analysis. The 49th Annual Meeting of the Association for Computational Linguistics (ACL 2011).\\\n",
    "[2] https://github.com/lunaticcoding/Sentiment-Analysis-using-LSTM/blob/master/sentimentLSTM.ipynb \\\n",
    "[3] http://blog.csdn.net/longxinchen_ml/article/details/50629613\n"
   ]
  },
  {
   "cell_type": "code",
   "execution_count": null,
   "metadata": {},
   "outputs": [],
   "source": []
  },
  {
   "cell_type": "code",
   "execution_count": null,
   "metadata": {},
   "outputs": [],
   "source": []
  }
 ],
 "metadata": {
  "kernelspec": {
   "display_name": "Python 3",
   "language": "python",
   "name": "python3"
  },
  "language_info": {
   "codemirror_mode": {
    "name": "ipython",
    "version": 3
   },
   "file_extension": ".py",
   "mimetype": "text/x-python",
   "name": "python",
   "nbconvert_exporter": "python",
   "pygments_lexer": "ipython3",
   "version": "3.7.6"
  }
 },
 "nbformat": 4,
 "nbformat_minor": 4
}
